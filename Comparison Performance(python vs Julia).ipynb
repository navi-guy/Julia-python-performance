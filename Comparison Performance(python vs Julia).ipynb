{
 "cells": [
  {
   "cell_type": "code",
   "execution_count": 37,
   "metadata": {},
   "outputs": [
    {
     "name": "stderr",
     "output_type": "stream",
     "text": [
      "\u001b[32m\u001b[1m  Resolving\u001b[22m\u001b[39m package versions...\n",
      "\u001b[32m\u001b[1m   Updating\u001b[22m\u001b[39m `C:\\Users\\Aliaga\\.julia\\environments\\v1.4\\Project.toml`\n",
      "\u001b[90m [no changes]\u001b[39m\n",
      "\u001b[32m\u001b[1m   Updating\u001b[22m\u001b[39m `C:\\Users\\Aliaga\\.julia\\environments\\v1.4\\Manifest.toml`\n",
      "\u001b[90m [no changes]\u001b[39m\n",
      "\u001b[32m\u001b[1m  Resolving\u001b[22m\u001b[39m package versions...\n",
      "\u001b[32m\u001b[1m   Updating\u001b[22m\u001b[39m `C:\\Users\\Aliaga\\.julia\\environments\\v1.4\\Project.toml`\n",
      "\u001b[90m [no changes]\u001b[39m\n",
      "\u001b[32m\u001b[1m   Updating\u001b[22m\u001b[39m `C:\\Users\\Aliaga\\.julia\\environments\\v1.4\\Manifest.toml`\n",
      "\u001b[90m [no changes]\u001b[39m\n"
     ]
    }
   ],
   "source": [
    "import Pkg; \n",
    "Pkg.add(\"PyCall\")\n",
    "Pkg.add(\"BenchmarkTools\")"
   ]
  },
  {
   "cell_type": "markdown",
   "metadata": {},
   "source": [
    "Probando la sucesión de Fibonacci con Julia"
   ]
  },
  {
   "cell_type": "code",
   "execution_count": 38,
   "metadata": {},
   "outputs": [
    {
     "data": {
      "text/plain": [
       "fibonacciJulia (generic function with 1 method)"
      ]
     },
     "execution_count": 38,
     "metadata": {},
     "output_type": "execute_result"
    }
   ],
   "source": [
    "function fibonacciJulia(a) \n",
    "    t1 = 0 \n",
    "    t2 = 1\n",
    "    nextTerm = 0\n",
    "    for i = 1:a\n",
    "        if i == 1\n",
    "            t1\n",
    "            continue\n",
    "        elseif i == 2\n",
    "            t2\n",
    "            continue\n",
    "        end\n",
    "        nextTerm = BigInt(t1) + BigInt(t2)\n",
    "        t1 = BigInt(t2)\n",
    "        t2 = BigInt(nextTerm)\n",
    "        nextTerm\n",
    "            \n",
    "    end\n",
    "end"
   ]
  },
  {
   "cell_type": "code",
   "execution_count": 39,
   "metadata": {
    "scrolled": true
   },
   "outputs": [
    {
     "name": "stdout",
     "output_type": "stream",
     "text": [
      "  913.900 μs (10004 allocations: 1.24 MiB)\n"
     ]
    }
   ],
   "source": [
    "using BenchmarkTools\n",
    "# Fibonnacci with Julia\n",
    "@btime fibonacciJulia(5000)"
   ]
  },
  {
   "cell_type": "markdown",
   "metadata": {},
   "source": [
    "Julia \n",
    "   in my pc -> 898.299 μs (10004 allocations: 1.24 MiB)"
   ]
  },
  {
   "cell_type": "markdown",
   "metadata": {},
   "source": [
    "## Fibonacci with Python"
   ]
  },
  {
   "cell_type": "code",
   "execution_count": 40,
   "metadata": {},
   "outputs": [
    {
     "name": "stdout",
     "output_type": "stream",
     "text": [
      "  1.206 ms (9 allocations: 336 bytes)\n"
     ]
    }
   ],
   "source": [
    "import PyCall\n",
    "\n",
    "PyCall.py\"\"\"\n",
    "#Fibonacci\n",
    "# Complejidad O(n)\n",
    "\n",
    "def fibonacciPython(n):\n",
    "    t1 = 0\n",
    "    t2 = 1\n",
    "    nextTerm = 0\n",
    "\n",
    "    for x in range(1,n):\n",
    "        if x == 1:\n",
    "            t1\n",
    "        elif x == 2:\n",
    "            t2\n",
    "\n",
    "        nextTerm = t1 + t2\n",
    "        t1 = t2\n",
    "        t2 = nextTerm\n",
    "\"\"\"\n",
    "\n",
    "@btime PyCall.py\"fibonacciPython\"(5000)"
   ]
  },
  {
   "cell_type": "markdown",
   "metadata": {},
   "source": [
    "Python \n",
    "in my pc -> 1.177 ms"
   ]
  },
  {
   "cell_type": "markdown",
   "metadata": {},
   "source": [
    "#Summary\n",
    "\n",
    "Mean Time:\n",
    "\n",
    "Fibo with 5000 numbers sucesion\n",
    "\n",
    "#### Python -> 1.177 ms\n",
    "#### Julia  -> 898.299 μs = 0.89899 ms\n",
    "\n"
   ]
  }
 ],
 "metadata": {
  "kernelspec": {
   "display_name": "Julia 1.4.1",
   "language": "julia",
   "name": "julia-1.4"
  },
  "language_info": {
   "file_extension": ".jl",
   "mimetype": "application/julia",
   "name": "julia",
   "version": "1.4.1"
  }
 },
 "nbformat": 4,
 "nbformat_minor": 4
}
